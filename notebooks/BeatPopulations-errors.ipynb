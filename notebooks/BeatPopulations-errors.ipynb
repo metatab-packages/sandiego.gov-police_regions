{
 "cells": [
  {
   "cell_type": "code",
   "execution_count": 1,
   "metadata": {
    "": true,
    "prolog": true
   },
   "outputs": [],
   "source": [
    "#2020-11-10 21:40:59.053278\n",
    "%load_ext metapack_jupyter.magic"
   ]
  },
  {
   "cell_type": "code",
   "execution_count": 2,
   "metadata": {
    "": true,
    "prolog": true
   },
   "outputs": [],
   "source": [
    "CACHE_DIR='/Users/eric/Library/Application Support/metapack/'\n",
    "RESOURCE_NAME='beat_demographics'\n",
    "RESOLVED_URL='file:///Users/eric/proj/data-projects/metatab-packages/sandiego/sandiego.gov/sandiego.gov-police_regions/notebooks/BeatPopulations.ipynb#beat_demographics'\n",
    "WORKING_DIR='/Users/eric/proj/data-projects/metatab-packages/sandiego/sandiego.gov/sandiego.gov-police_regions'\n",
    "METATAB_DOC='metapack+file:///Users/eric/proj/data-projects/metatab-packages/sandiego/sandiego.gov/sandiego.gov-police_regions/metadata.csv'\n",
    "METATAB_WORKING_DIR='/Users/eric/proj/data-projects/metatab-packages/sandiego/sandiego.gov/sandiego.gov-police_regions'\n",
    "METATAB_PACKAGE='metapack+file:///Users/eric/proj/data-projects/metatab-packages/sandiego/sandiego.gov/sandiego.gov-police_regions/'"
   ]
  },
  {
   "cell_type": "code",
   "execution_count": 3,
   "metadata": {
    "": true,
    "prolog": true
   },
   "outputs": [],
   "source": [
    "METAPACK_BUILDING=True"
   ]
  },
  {
   "cell_type": "markdown",
   "metadata": {},
   "source": [
    "# Beat Populations\n",
    "\n",
    "Link census tract populations, total and by race, into police beats. Attributes population from tracts to beats by the areas of the overlaps. The basic procedure is to find the overlaps between beats and Census tracts, then addign a portion of the population of the tract to the beat, based on the raio of the size of overlap to the size of the tract. "
   ]
  },
  {
   "cell_type": "code",
   "execution_count": 4,
   "metadata": {},
   "outputs": [],
   "source": [
    "import seaborn as sns\n",
    "import metapack as mp\n",
    "import pandas as pd\n",
    "import geopandas as gpd\n",
    "import numpy as np\n",
    "import matplotlib.pyplot as plt\n",
    "from IPython.display import display \n",
    "\n",
    "%matplotlib inline\n",
    "sns.set_context('notebook')\n"
   ]
  },
  {
   "cell_type": "code",
   "execution_count": 5,
   "metadata": {},
   "outputs": [
    {
     "data": {
      "text/html": [
       "<h1>San Diego Police Regions and Demographics</h1>\n",
       "<p><code>sandiego.gov-police_regions-5</code> Last Update: 2020-11-11T05:40:58</p>\n",
       "<p><em>Boundary shapes for San Diego neighborhoods, beats and divisions, with ACS estimates for populations, by race.</em></p>\n",
       "<h2>Documentation Links</h2>\n",
       "<ul>\n",
       "<li><a href=\"https://data.sandiego.gov/datasets/pd-divisions/\">Police Divisions Repository Page</a> Data repository page that links to original files.</li>\n",
       "</ul>\n",
       "<h2>Contacts</h2>\n",
       "<ul>\n",
       "<li><strong>Wrangler</strong> <a href=\"mailto:eric@civicknowledge.com\">Eric Busboom</a>, <a href=\"http://civicknowledge.com\">Civic Knowledge</a></li>\n",
       "</ul>\n",
       "<h2>Resources</h2>\n",
       "<ul>\n",
       "<li><strong> <a href=\"data/pd_beats.csv\">pd_beats</a></strong>. Police beats</li>\n",
       "<li><strong> <a href=\"data/pd_divisions.csv\">pd_divisions</a></strong>. Police Divisions</li>\n",
       "<li><strong> <a href=\"data/pd_neighborhoods.csv\">pd_neighborhoods</a></strong>. Police Neighborhoods</li>\n",
       "<li><strong> <a href=\"notebooks/BeatPopulations.ipynb#beat_demographics\">beat_demographics</a></strong>. Counts of people in the beat, by race.</li>\n",
       "</ul>\n",
       "<h2>References</h2>\n",
       "<p><ul><li> <strong>tracts</string>, <em>metapack+http://library.metatab.org/sandiegodata.org-communities-2018-7.csv#tracts</em>. Census tracts from 2016 5 year ACS, for San Diego county</li><li> <strong>race</string>, <em>census://2016/5/CA/140/B03002</em>. Race, by tract, in San Diego county</li><ul></p>"
      ],
      "text/plain": [
       "# San Diego Police Regions and Demographics\n",
       "`sandiego.gov-police_regions-5` Last Update: 2020-11-11T05:40:58\n",
       "\n",
       "_Boundary shapes for San Diego neighborhoods, beats and divisions, with ACS estimates for populations, by race._\n",
       "\n",
       "\n",
       "## Documentation Links\n",
       "\n",
       "* [Police Divisions Repository Page](https://data.sandiego.gov/datasets/pd-divisions/) Data repository page that links to original files.\n",
       "\n",
       " \n",
       "\n",
       "## Contacts\n",
       "\n",
       "* **Wrangler** [Eric Busboom](mailto:eric@civicknowledge.com), [Civic Knowledge](http://civicknowledge.com)\n",
       "\n",
       "## Resources\n",
       "\n",
       "* ** [pd_beats](data/pd_beats.csv)**. Police beats\n",
       "* ** [pd_divisions](data/pd_divisions.csv)**. Police Divisions\n",
       "* ** [pd_neighborhoods](data/pd_neighborhoods.csv)**. Police Neighborhoods\n",
       "* ** [beat_demographics](notebooks/BeatPopulations.ipynb#beat_demographics)**. Counts of people in the beat, by race.\n",
       "\n",
       "## References\n",
       "<ul><li> <strong>tracts</string>, <em>metapack+http://library.metatab.org/sandiegodata.org-communities-2018-7.csv#tracts</em>. Census tracts from 2016 5 year ACS, for San Diego county</li><li> <strong>race</string>, <em>census://2016/5/CA/140/B03002</em>. Race, by tract, in San Diego county</li><ul>\n"
      ]
     },
     "execution_count": 5,
     "metadata": {},
     "output_type": "execute_result"
    }
   ],
   "source": [
    "pkg = mp.jupyter.open_package()\n",
    "#pkg = mp.jupyter.open_source_package()\n",
    "pkg"
   ]
  },
  {
   "cell_type": "code",
   "execution_count": 6,
   "metadata": {},
   "outputs": [
    {
     "name": "stderr",
     "output_type": "stream",
     "text": [
      "/Users/eric/opt/anaconda3/envs/data/lib/python3.7/site-packages/ipykernel_launcher.py:4: UserWarning: Geometry is in a geographic CRS. Results from 'centroid' are likely incorrect. Use 'GeoSeries.to_crs()' to re-project geometries to a projected CRS before this operation.\n",
      "\n",
      "  after removing the cwd from sys.path.\n",
      "/Users/eric/opt/anaconda3/envs/data/lib/python3.7/site-packages/ipykernel_launcher.py:6: UserWarning: Geometry is in a geographic CRS. Results from 'centroid' are likely incorrect. Use 'GeoSeries.to_crs()' to re-project geometries to a projected CRS before this operation.\n",
      "\n",
      "  \n",
      "/Users/eric/opt/anaconda3/envs/data/lib/python3.7/site-packages/pyproj/crs/crs.py:53: FutureWarning: '+init=<authority>:<code>' syntax is deprecated. '<authority>:<code>' is the preferred initialization method. When making the change, be mindful of axis order changes: https://pyproj4.github.io/pyproj/stable/gotchas.html#axis-order-changes-in-proj-6\n",
      "  return _prepare_from_string(\" \".join(pjargs))\n"
     ]
    },
    {
     "ename": "TypeError",
     "evalue": "'Polygon' object is not subscriptable",
     "output_type": "error",
     "traceback": [
      "\u001b[0;31m---------------------------------------------------------------------------\u001b[0m",
      "\u001b[0;31mTypeError\u001b[0m                                 Traceback (most recent call last)",
      "\u001b[0;32m<ipython-input-6-e4f53635118c>\u001b[0m in \u001b[0;36m<module>\u001b[0;34m()\u001b[0m\n\u001b[1;32m     17\u001b[0m \u001b[0mbeats\u001b[0m\u001b[0;34m[\u001b[0m\u001b[0;34m'beat_area'\u001b[0m\u001b[0;34m]\u001b[0m \u001b[0;34m=\u001b[0m \u001b[0mbeats\u001b[0m\u001b[0;34m.\u001b[0m\u001b[0marea\u001b[0m \u001b[0;34m/\u001b[0m \u001b[0;36m1_000_000\u001b[0m\u001b[0;34m\u001b[0m\u001b[0;34m\u001b[0m\u001b[0m\n\u001b[1;32m     18\u001b[0m \u001b[0;34m\u001b[0m\u001b[0m\n\u001b[0;32m---> 19\u001b[0;31m \u001b[0mbeats\u001b[0m\u001b[0;34m.\u001b[0m\u001b[0mplot\u001b[0m\u001b[0;34m(\u001b[0m\u001b[0;34m)\u001b[0m\u001b[0;34m\u001b[0m\u001b[0;34m\u001b[0m\u001b[0m\n\u001b[0m",
      "\u001b[0;32m~/opt/anaconda3/envs/data/lib/python3.7/site-packages/geopandas/geodataframe.py\u001b[0m in \u001b[0;36mplot\u001b[0;34m(self, *args, **kwargs)\u001b[0m\n\u001b[1;32m    897\u001b[0m         \u001b[0;32mfrom\u001b[0m \u001b[0mthere\u001b[0m\u001b[0;34m.\u001b[0m\u001b[0;34m\u001b[0m\u001b[0;34m\u001b[0m\u001b[0m\n\u001b[1;32m    898\u001b[0m         \"\"\"\n\u001b[0;32m--> 899\u001b[0;31m         \u001b[0;32mreturn\u001b[0m \u001b[0mplot_dataframe\u001b[0m\u001b[0;34m(\u001b[0m\u001b[0mself\u001b[0m\u001b[0;34m,\u001b[0m \u001b[0;34m*\u001b[0m\u001b[0margs\u001b[0m\u001b[0;34m,\u001b[0m \u001b[0;34m**\u001b[0m\u001b[0mkwargs\u001b[0m\u001b[0;34m)\u001b[0m\u001b[0;34m\u001b[0m\u001b[0;34m\u001b[0m\u001b[0m\n\u001b[0m\u001b[1;32m    900\u001b[0m \u001b[0;34m\u001b[0m\u001b[0m\n\u001b[1;32m    901\u001b[0m     \u001b[0mplot\u001b[0m\u001b[0;34m.\u001b[0m\u001b[0m__doc__\u001b[0m \u001b[0;34m=\u001b[0m \u001b[0mplot_dataframe\u001b[0m\u001b[0;34m.\u001b[0m\u001b[0m__doc__\u001b[0m\u001b[0;34m\u001b[0m\u001b[0;34m\u001b[0m\u001b[0m\n",
      "\u001b[0;32m~/opt/anaconda3/envs/data/lib/python3.7/site-packages/geopandas/plotting.py\u001b[0m in \u001b[0;36mplot_dataframe\u001b[0;34m(df, column, cmap, color, ax, cax, categorical, legend, scheme, k, vmin, vmax, markersize, figsize, legend_kwds, categories, classification_kwds, missing_kwds, aspect, **style_kwds)\u001b[0m\n\u001b[1;32m    621\u001b[0m             \u001b[0mmarkersize\u001b[0m\u001b[0;34m=\u001b[0m\u001b[0mmarkersize\u001b[0m\u001b[0;34m,\u001b[0m\u001b[0;34m\u001b[0m\u001b[0;34m\u001b[0m\u001b[0m\n\u001b[1;32m    622\u001b[0m             \u001b[0maspect\u001b[0m\u001b[0;34m=\u001b[0m\u001b[0maspect\u001b[0m\u001b[0;34m,\u001b[0m\u001b[0;34m\u001b[0m\u001b[0;34m\u001b[0m\u001b[0m\n\u001b[0;32m--> 623\u001b[0;31m             \u001b[0;34m**\u001b[0m\u001b[0mstyle_kwds\u001b[0m\u001b[0;34m\u001b[0m\u001b[0;34m\u001b[0m\u001b[0m\n\u001b[0m\u001b[1;32m    624\u001b[0m         )\n\u001b[1;32m    625\u001b[0m \u001b[0;34m\u001b[0m\u001b[0m\n",
      "\u001b[0;32m~/opt/anaconda3/envs/data/lib/python3.7/site-packages/geopandas/plotting.py\u001b[0m in \u001b[0;36mplot_series\u001b[0;34m(s, cmap, color, ax, figsize, aspect, **style_kwds)\u001b[0m\n\u001b[1;32m    412\u001b[0m         \u001b[0mvalues_\u001b[0m \u001b[0;34m=\u001b[0m \u001b[0mvalues\u001b[0m\u001b[0;34m[\u001b[0m\u001b[0mpoly_idx\u001b[0m\u001b[0;34m]\u001b[0m \u001b[0;32mif\u001b[0m \u001b[0mcmap\u001b[0m \u001b[0;32melse\u001b[0m \u001b[0;32mNone\u001b[0m\u001b[0;34m\u001b[0m\u001b[0;34m\u001b[0m\u001b[0m\n\u001b[1;32m    413\u001b[0m         _plot_polygon_collection(\n\u001b[0;32m--> 414\u001b[0;31m             \u001b[0max\u001b[0m\u001b[0;34m,\u001b[0m \u001b[0mpolys\u001b[0m\u001b[0;34m,\u001b[0m \u001b[0mvalues_\u001b[0m\u001b[0;34m,\u001b[0m \u001b[0mfacecolor\u001b[0m\u001b[0;34m=\u001b[0m\u001b[0mfacecolor\u001b[0m\u001b[0;34m,\u001b[0m \u001b[0mcmap\u001b[0m\u001b[0;34m=\u001b[0m\u001b[0mcmap\u001b[0m\u001b[0;34m,\u001b[0m \u001b[0;34m**\u001b[0m\u001b[0mstyle_kwds\u001b[0m\u001b[0;34m\u001b[0m\u001b[0;34m\u001b[0m\u001b[0m\n\u001b[0m\u001b[1;32m    415\u001b[0m         )\n\u001b[1;32m    416\u001b[0m \u001b[0;34m\u001b[0m\u001b[0m\n",
      "\u001b[0;32m~/opt/anaconda3/envs/data/lib/python3.7/site-packages/geopandas/plotting.py\u001b[0m in \u001b[0;36m_plot_polygon_collection\u001b[0;34m(ax, geoms, values, color, cmap, vmin, vmax, **kwargs)\u001b[0m\n\u001b[1;32m    144\u001b[0m     \u001b[0m_expand_kwargs\u001b[0m\u001b[0;34m(\u001b[0m\u001b[0mkwargs\u001b[0m\u001b[0;34m,\u001b[0m \u001b[0mmultiindex\u001b[0m\u001b[0;34m)\u001b[0m\u001b[0;34m\u001b[0m\u001b[0;34m\u001b[0m\u001b[0m\n\u001b[1;32m    145\u001b[0m \u001b[0;34m\u001b[0m\u001b[0m\n\u001b[0;32m--> 146\u001b[0;31m     \u001b[0mcollection\u001b[0m \u001b[0;34m=\u001b[0m \u001b[0mPatchCollection\u001b[0m\u001b[0;34m(\u001b[0m\u001b[0;34m[\u001b[0m\u001b[0mPolygonPatch\u001b[0m\u001b[0;34m(\u001b[0m\u001b[0mpoly\u001b[0m\u001b[0;34m)\u001b[0m \u001b[0;32mfor\u001b[0m \u001b[0mpoly\u001b[0m \u001b[0;32min\u001b[0m \u001b[0mgeoms\u001b[0m\u001b[0;34m]\u001b[0m\u001b[0;34m,\u001b[0m \u001b[0;34m**\u001b[0m\u001b[0mkwargs\u001b[0m\u001b[0;34m)\u001b[0m\u001b[0;34m\u001b[0m\u001b[0;34m\u001b[0m\u001b[0m\n\u001b[0m\u001b[1;32m    147\u001b[0m \u001b[0;34m\u001b[0m\u001b[0m\n\u001b[1;32m    148\u001b[0m     \u001b[0;32mif\u001b[0m \u001b[0mvalues\u001b[0m \u001b[0;32mis\u001b[0m \u001b[0;32mnot\u001b[0m \u001b[0;32mNone\u001b[0m\u001b[0;34m:\u001b[0m\u001b[0;34m\u001b[0m\u001b[0;34m\u001b[0m\u001b[0m\n",
      "\u001b[0;32m~/opt/anaconda3/envs/data/lib/python3.7/site-packages/geopandas/plotting.py\u001b[0m in \u001b[0;36m<listcomp>\u001b[0;34m(.0)\u001b[0m\n\u001b[1;32m    144\u001b[0m     \u001b[0m_expand_kwargs\u001b[0m\u001b[0;34m(\u001b[0m\u001b[0mkwargs\u001b[0m\u001b[0;34m,\u001b[0m \u001b[0mmultiindex\u001b[0m\u001b[0;34m)\u001b[0m\u001b[0;34m\u001b[0m\u001b[0;34m\u001b[0m\u001b[0m\n\u001b[1;32m    145\u001b[0m \u001b[0;34m\u001b[0m\u001b[0m\n\u001b[0;32m--> 146\u001b[0;31m     \u001b[0mcollection\u001b[0m \u001b[0;34m=\u001b[0m \u001b[0mPatchCollection\u001b[0m\u001b[0;34m(\u001b[0m\u001b[0;34m[\u001b[0m\u001b[0mPolygonPatch\u001b[0m\u001b[0;34m(\u001b[0m\u001b[0mpoly\u001b[0m\u001b[0;34m)\u001b[0m \u001b[0;32mfor\u001b[0m \u001b[0mpoly\u001b[0m \u001b[0;32min\u001b[0m \u001b[0mgeoms\u001b[0m\u001b[0;34m]\u001b[0m\u001b[0;34m,\u001b[0m \u001b[0;34m**\u001b[0m\u001b[0mkwargs\u001b[0m\u001b[0;34m)\u001b[0m\u001b[0;34m\u001b[0m\u001b[0;34m\u001b[0m\u001b[0m\n\u001b[0m\u001b[1;32m    147\u001b[0m \u001b[0;34m\u001b[0m\u001b[0m\n\u001b[1;32m    148\u001b[0m     \u001b[0;32mif\u001b[0m \u001b[0mvalues\u001b[0m \u001b[0;32mis\u001b[0m \u001b[0;32mnot\u001b[0m \u001b[0;32mNone\u001b[0m\u001b[0;34m:\u001b[0m\u001b[0;34m\u001b[0m\u001b[0;34m\u001b[0m\u001b[0m\n",
      "\u001b[0;32m~/opt/anaconda3/envs/data/lib/python3.7/site-packages/descartes/patch.py\u001b[0m in \u001b[0;36mPolygonPatch\u001b[0;34m(polygon, **kwargs)\u001b[0m\n\u001b[1;32m     85\u001b[0m \u001b[0;34m\u001b[0m\u001b[0m\n\u001b[1;32m     86\u001b[0m     \"\"\"\n\u001b[0;32m---> 87\u001b[0;31m     \u001b[0;32mreturn\u001b[0m \u001b[0mPathPatch\u001b[0m\u001b[0;34m(\u001b[0m\u001b[0mPolygonPath\u001b[0m\u001b[0;34m(\u001b[0m\u001b[0mpolygon\u001b[0m\u001b[0;34m)\u001b[0m\u001b[0;34m,\u001b[0m \u001b[0;34m**\u001b[0m\u001b[0mkwargs\u001b[0m\u001b[0;34m)\u001b[0m\u001b[0;34m\u001b[0m\u001b[0;34m\u001b[0m\u001b[0m\n\u001b[0m",
      "\u001b[0;32m~/opt/anaconda3/envs/data/lib/python3.7/site-packages/descartes/patch.py\u001b[0m in \u001b[0;36mPolygonPath\u001b[0;34m(polygon)\u001b[0m\n\u001b[1;32m     63\u001b[0m         concatenate([asarray(t.exterior)[:, :2]] +\n\u001b[1;32m     64\u001b[0m                     [asarray(r)[:, :2] for r in t.interiors])\n\u001b[0;32m---> 65\u001b[0;31m         for t in polygon])\n\u001b[0m\u001b[1;32m     66\u001b[0m     codes = concatenate([\n\u001b[1;32m     67\u001b[0m         concatenate([coding(t.exterior)] +\n",
      "\u001b[0;32m~/opt/anaconda3/envs/data/lib/python3.7/site-packages/descartes/patch.py\u001b[0m in \u001b[0;36m<listcomp>\u001b[0;34m(.0)\u001b[0m\n\u001b[1;32m     63\u001b[0m         concatenate([asarray(t.exterior)[:, :2]] +\n\u001b[1;32m     64\u001b[0m                     [asarray(r)[:, :2] for r in t.interiors])\n\u001b[0;32m---> 65\u001b[0;31m         for t in polygon])\n\u001b[0m\u001b[1;32m     66\u001b[0m     codes = concatenate([\n\u001b[1;32m     67\u001b[0m         concatenate([coding(t.exterior)] +\n",
      "\u001b[0;32m~/opt/anaconda3/envs/data/lib/python3.7/site-packages/descartes/patch.py\u001b[0m in \u001b[0;36mexterior\u001b[0;34m(self)\u001b[0m\n\u001b[1;32m     17\u001b[0m     \u001b[0;32mdef\u001b[0m \u001b[0mexterior\u001b[0m\u001b[0;34m(\u001b[0m\u001b[0mself\u001b[0m\u001b[0;34m)\u001b[0m\u001b[0;34m:\u001b[0m\u001b[0;34m\u001b[0m\u001b[0;34m\u001b[0m\u001b[0m\n\u001b[1;32m     18\u001b[0m         return (getattr(self.context, 'exterior', None)\n\u001b[0;32m---> 19\u001b[0;31m                 or self.context[0])\n\u001b[0m\u001b[1;32m     20\u001b[0m \u001b[0;34m\u001b[0m\u001b[0m\n\u001b[1;32m     21\u001b[0m     \u001b[0;34m@\u001b[0m\u001b[0mproperty\u001b[0m\u001b[0;34m\u001b[0m\u001b[0;34m\u001b[0m\u001b[0m\n",
      "\u001b[0;31mTypeError\u001b[0m: 'Polygon' object is not subscriptable"
     ]
    },
    {
     "data": {
      "image/png": "[encoded data removed]",
      "text/plain": [
       "<Figure size 432x288 with 1 Axes>"
      ]
     },
     "metadata": {
      "needs_background": "light"
     },
     "output_type": "display_data"
    }
   ],
   "source": [
    "# Convert to EPSG:26911, ( A randomly selected UTM Zone 11N CRS) so area calculations \n",
    "# will be in square meters, rather than square degrees\n",
    "beats = pkg.resource('pd_beats').geoframe().to_crs(26911)\n",
    "\n",
    "# There are  beats that are way off in east county. Get rid of them.\n",
    "rightmost_centroid = beats.centroid.x.sort_values(ascending=False).iloc[:6].max()\n",
    "\n",
    "beats = beats[beats.centroid.x <rightmost_centroid]\n",
    "\n",
    "\n",
    "\n",
    "\n",
    "# It looks like the dataset has multiple rows per beat, one feature per row. We need\n",
    "# it to have one row per beat, with multiple features combined together. \n",
    "beats = beats.dissolve(by='beat').reset_index()\n",
    "\n",
    "#  Add the area\n",
    "beats['beat_area'] = beats.area / 1_000_000\n",
    "\n",
    "beats.plot()\n"
   ]
  },
  {
   "cell_type": "code",
   "execution_count": 4,
   "metadata": {},
   "outputs": [
    {
     "data": {
      "text/plain": [
       "<matplotlib.axes._subplots.AxesSubplot at 0x7f8140d92c50>"
      ]
     },
     "execution_count": 4,
     "metadata": {},
     "output_type": "execute_result"
    },
    {
     "data": {
      "image/png": "[encoded data removed]",
      "text/plain": [
       "<Figure size 432x288 with 1 Axes>"
      ]
     },
     "metadata": {
      "needs_background": "light"
     },
     "output_type": "display_data"
    }
   ],
   "source": [
    "tracts = pkg.reference('tracts').geoframe()\n",
    "\n",
    "tracts = tracts.to_crs({'init': 'epsg:26911'})\n",
    "\n",
    "#  Add the area\n",
    "tracts['tract_area'] = tracts.area / 1_000_000\n",
    "\n",
    "\n",
    "tracts.plot()"
   ]
  },
  {
   "cell_type": "code",
   "execution_count": 15,
   "metadata": {},
   "outputs": [],
   "source": [
    "from rowgenerators import dataframe, parse_app_url\n",
    "t = dataframe('census://CA/140/B03002')"
   ]
  },
  {
   "cell_type": "code",
   "execution_count": 6,
   "metadata": {},
   "outputs": [],
   "source": [
    "# White, black, asian, etc are all non hispanic. \n",
    "col_map = {\n",
    "    'b03002_001':'total',\n",
    "    'b03002_003':'white',\n",
    "    'b03002_004':'black',\n",
    "    'b03002_005':'aian',\n",
    "    'b03002_006':'asian',\n",
    "    'b03002_007':'nhopi', \n",
    "    'b03002_012':'hisp'\n",
    "    \n",
    "}\n",
    "\n",
    "for k,v in list(col_map.items()):\n",
    "    col_map[k+'_m90'] = col_map[k]+'_m90'\n",
    "    \n",
    "race_tracts = t[t.county=='073'].rename(columns=col_map).reset_index().rename(columns={'GEOID':'geoid'})"
   ]
  },
  {
   "cell_type": "code",
   "execution_count": 7,
   "metadata": {},
   "outputs": [
    {
     "data": {
      "text/html": [
       "<div>\n",
       "<style scoped>\n",
       "    .dataframe tbody tr th:only-of-type {\n",
       "        vertical-align: middle;\n",
       "    }\n",
       "\n",
       "    .dataframe tbody tr th {\n",
       "        vertical-align: top;\n",
       "    }\n",
       "\n",
       "    .dataframe thead th {\n",
       "        text-align: right;\n",
       "    }\n",
       "</style>\n",
       "<table border=\"1\" class=\"dataframe\">\n",
       "  <thead>\n",
       "    <tr style=\"text-align: right;\">\n",
       "      <th></th>\n",
       "      <th>0</th>\n",
       "      <th>1</th>\n",
       "      <th>2</th>\n",
       "      <th>3</th>\n",
       "      <th>4</th>\n",
       "    </tr>\n",
       "  </thead>\n",
       "  <tbody>\n",
       "    <tr>\n",
       "      <th>GEOID</th>\n",
       "      <td>14000US06073000100</td>\n",
       "      <td>14000US06073000201</td>\n",
       "      <td>14000US06073000202</td>\n",
       "      <td>14000US06073000300</td>\n",
       "      <td>14000US06073000400</td>\n",
       "    </tr>\n",
       "    <tr>\n",
       "      <th>total</th>\n",
       "      <td>2863</td>\n",
       "      <td>2056</td>\n",
       "      <td>5021</td>\n",
       "      <td>5174</td>\n",
       "      <td>3717</td>\n",
       "    </tr>\n",
       "    <tr>\n",
       "      <th>white</th>\n",
       "      <td>2447</td>\n",
       "      <td>1795</td>\n",
       "      <td>3696</td>\n",
       "      <td>3892</td>\n",
       "      <td>2253</td>\n",
       "    </tr>\n",
       "    <tr>\n",
       "      <th>black</th>\n",
       "      <td>0</td>\n",
       "      <td>10</td>\n",
       "      <td>47</td>\n",
       "      <td>187</td>\n",
       "      <td>85</td>\n",
       "    </tr>\n",
       "    <tr>\n",
       "      <th>aian</th>\n",
       "      <td>0</td>\n",
       "      <td>9</td>\n",
       "      <td>46</td>\n",
       "      <td>0</td>\n",
       "      <td>0</td>\n",
       "    </tr>\n",
       "    <tr>\n",
       "      <th>asian</th>\n",
       "      <td>81</td>\n",
       "      <td>77</td>\n",
       "      <td>404</td>\n",
       "      <td>230</td>\n",
       "      <td>499</td>\n",
       "    </tr>\n",
       "    <tr>\n",
       "      <th>nhopi</th>\n",
       "      <td>0</td>\n",
       "      <td>0</td>\n",
       "      <td>0</td>\n",
       "      <td>7</td>\n",
       "      <td>0</td>\n",
       "    </tr>\n",
       "    <tr>\n",
       "      <th>hisp</th>\n",
       "      <td>253</td>\n",
       "      <td>112</td>\n",
       "      <td>662</td>\n",
       "      <td>660</td>\n",
       "      <td>781</td>\n",
       "    </tr>\n",
       "  </tbody>\n",
       "</table>\n",
       "</div>"
      ],
      "text/plain": [
       "                         0                   1                   2  \\\n",
       "GEOID   14000US06073000100  14000US06073000201  14000US06073000202   \n",
       "total                 2863                2056                5021   \n",
       "white                 2447                1795                3696   \n",
       "black                    0                  10                  47   \n",
       "aian                     0                   9                  46   \n",
       "asian                   81                  77                 404   \n",
       "nhopi                    0                   0                   0   \n",
       "hisp                   253                 112                 662   \n",
       "\n",
       "                         3                   4  \n",
       "GEOID   14000US06073000300  14000US06073000400  \n",
       "total                 5174                3717  \n",
       "white                 3892                2253  \n",
       "black                  187                  85  \n",
       "aian                     0                   0  \n",
       "asian                  230                 499  \n",
       "nhopi                    7                   0  \n",
       "hisp                   660                 781  "
      ]
     },
     "execution_count": 7,
     "metadata": {},
     "output_type": "execute_result"
    }
   ],
   "source": [
    "race_tracts = race_tracts[['geoid', 'total', 'white', 'black', 'aian', 'asian', 'nhopi', 'hisp']]\n",
    "race_tracts.titles.head().T"
   ]
  },
  {
   "cell_type": "code",
   "execution_count": 8,
   "metadata": {},
   "outputs": [
    {
     "data": {
      "image/png": "[encoded data removed]",
      "text/plain": [
       "<Figure size 432x288 with 1 Axes>"
      ]
     },
     "metadata": {
      "needs_background": "light"
     },
     "output_type": "display_data"
    }
   ],
   "source": [
    "t = gpd.sjoin(beats, tracts)\n",
    "\n",
    "ax = t.plot()\n",
    "beats.centroid.plot(ax=ax, color='red')\n",
    "\n",
    "t = t[['geoid', 'beat']].drop_duplicates()\\\n",
    "    .merge(tracts[['geoid','geometry', 'tract_area']],on='geoid')\\\n",
    "    .merge(beats[['beat','geometry', 'beat_area']],on='beat')\n"
   ]
  },
  {
   "cell_type": "code",
   "execution_count": 9,
   "metadata": {},
   "outputs": [
    {
     "data": {
      "text/html": [
       "<div>\n",
       "<style scoped>\n",
       "    .dataframe tbody tr th:only-of-type {\n",
       "        vertical-align: middle;\n",
       "    }\n",
       "\n",
       "    .dataframe tbody tr th {\n",
       "        vertical-align: top;\n",
       "    }\n",
       "\n",
       "    .dataframe thead th {\n",
       "        text-align: right;\n",
       "    }\n",
       "</style>\n",
       "<table border=\"1\" class=\"dataframe\">\n",
       "  <thead>\n",
       "    <tr style=\"text-align: right;\">\n",
       "      <th></th>\n",
       "      <th>0</th>\n",
       "      <th>1</th>\n",
       "      <th>2</th>\n",
       "      <th>3</th>\n",
       "      <th>4</th>\n",
       "    </tr>\n",
       "  </thead>\n",
       "  <tbody>\n",
       "    <tr>\n",
       "      <th>beat</th>\n",
       "      <td>0</td>\n",
       "      <td>721</td>\n",
       "      <td>0</td>\n",
       "      <td>0</td>\n",
       "      <td>511</td>\n",
       "    </tr>\n",
       "    <tr>\n",
       "      <th>geoid</th>\n",
       "      <td>14000US06073021900</td>\n",
       "      <td>14000US06073021900</td>\n",
       "      <td>14000US06073021600</td>\n",
       "      <td>14000US06073003800</td>\n",
       "      <td>14000US06073003800</td>\n",
       "    </tr>\n",
       "    <tr>\n",
       "      <th>intr_area</th>\n",
       "      <td>0.183666</td>\n",
       "      <td>0.0228637</td>\n",
       "      <td>0.645752</td>\n",
       "      <td>0.0366767</td>\n",
       "      <td>1.77264</td>\n",
       "    </tr>\n",
       "    <tr>\n",
       "      <th>tract_area</th>\n",
       "      <td>10.6162</td>\n",
       "      <td>10.6162</td>\n",
       "      <td>15.2322</td>\n",
       "      <td>1.82267</td>\n",
       "      <td>1.82267</td>\n",
       "    </tr>\n",
       "    <tr>\n",
       "      <th>beat_area</th>\n",
       "      <td>18.2475</td>\n",
       "      <td>7.63003</td>\n",
       "      <td>18.2475</td>\n",
       "      <td>18.2475</td>\n",
       "      <td>6.80108</td>\n",
       "    </tr>\n",
       "    <tr>\n",
       "      <th>total</th>\n",
       "      <td>98.336</td>\n",
       "      <td>12.2414</td>\n",
       "      <td>140.112</td>\n",
       "      <td>132.889</td>\n",
       "      <td>6422.74</td>\n",
       "    </tr>\n",
       "    <tr>\n",
       "      <th>white</th>\n",
       "      <td>30.7603</td>\n",
       "      <td>3.8292</td>\n",
       "      <td>93.8603</td>\n",
       "      <td>64.8749</td>\n",
       "      <td>3135.51</td>\n",
       "    </tr>\n",
       "    <tr>\n",
       "      <th>black</th>\n",
       "      <td>15.1206</td>\n",
       "      <td>1.8823</td>\n",
       "      <td>5.6384</td>\n",
       "      <td>28.8959</td>\n",
       "      <td>1396.59</td>\n",
       "    </tr>\n",
       "    <tr>\n",
       "      <th>aian</th>\n",
       "      <td>1.33214</td>\n",
       "      <td>0.165832</td>\n",
       "      <td>0.084788</td>\n",
       "      <td>1.14698</td>\n",
       "      <td>55.4355</td>\n",
       "    </tr>\n",
       "    <tr>\n",
       "      <th>asian</th>\n",
       "      <td>11.4702</td>\n",
       "      <td>1.42787</td>\n",
       "      <td>5.17207</td>\n",
       "      <td>10.7052</td>\n",
       "      <td>517.398</td>\n",
       "    </tr>\n",
       "    <tr>\n",
       "      <th>nhopi</th>\n",
       "      <td>0.70932</td>\n",
       "      <td>0.0882999</td>\n",
       "      <td>0.466334</td>\n",
       "      <td>0.764655</td>\n",
       "      <td>36.957</td>\n",
       "    </tr>\n",
       "    <tr>\n",
       "      <th>hisp</th>\n",
       "      <td>38.3552</td>\n",
       "      <td>4.77466</td>\n",
       "      <td>30.5661</td>\n",
       "      <td>25.0927</td>\n",
       "      <td>1212.77</td>\n",
       "    </tr>\n",
       "    <tr>\n",
       "      <th>tract_overlap_proportion</th>\n",
       "      <td>0.0173005</td>\n",
       "      <td>0.00215366</td>\n",
       "      <td>0.042394</td>\n",
       "      <td>0.0201225</td>\n",
       "      <td>0.972553</td>\n",
       "    </tr>\n",
       "    <tr>\n",
       "      <th>beat_overlap_proportion</th>\n",
       "      <td>0.0100653</td>\n",
       "      <td>0.00299654</td>\n",
       "      <td>0.0353886</td>\n",
       "      <td>0.00200996</td>\n",
       "      <td>0.260641</td>\n",
       "    </tr>\n",
       "  </tbody>\n",
       "</table>\n",
       "</div>"
      ],
      "text/plain": [
       "                                           0                   1  \\\n",
       "beat                                       0                 721   \n",
       "geoid                     14000US06073021900  14000US06073021900   \n",
       "intr_area                           0.183666           0.0228637   \n",
       "tract_area                           10.6162             10.6162   \n",
       "beat_area                            18.2475             7.63003   \n",
       "total                                 98.336             12.2414   \n",
       "white                                30.7603              3.8292   \n",
       "black                                15.1206              1.8823   \n",
       "aian                                 1.33214            0.165832   \n",
       "asian                                11.4702             1.42787   \n",
       "nhopi                                0.70932           0.0882999   \n",
       "hisp                                 38.3552             4.77466   \n",
       "tract_overlap_proportion           0.0173005          0.00215366   \n",
       "beat_overlap_proportion            0.0100653          0.00299654   \n",
       "\n",
       "                                           2                   3  \\\n",
       "beat                                       0                   0   \n",
       "geoid                     14000US06073021600  14000US06073003800   \n",
       "intr_area                           0.645752           0.0366767   \n",
       "tract_area                           15.2322             1.82267   \n",
       "beat_area                            18.2475             18.2475   \n",
       "total                                140.112             132.889   \n",
       "white                                93.8603             64.8749   \n",
       "black                                 5.6384             28.8959   \n",
       "aian                                0.084788             1.14698   \n",
       "asian                                5.17207             10.7052   \n",
       "nhopi                               0.466334            0.764655   \n",
       "hisp                                 30.5661             25.0927   \n",
       "tract_overlap_proportion            0.042394           0.0201225   \n",
       "beat_overlap_proportion            0.0353886          0.00200996   \n",
       "\n",
       "                                           4  \n",
       "beat                                     511  \n",
       "geoid                     14000US06073003800  \n",
       "intr_area                            1.77264  \n",
       "tract_area                           1.82267  \n",
       "beat_area                            6.80108  \n",
       "total                                6422.74  \n",
       "white                                3135.51  \n",
       "black                                1396.59  \n",
       "aian                                 55.4355  \n",
       "asian                                517.398  \n",
       "nhopi                                 36.957  \n",
       "hisp                                 1212.77  \n",
       "tract_overlap_proportion            0.972553  \n",
       "beat_overlap_proportion             0.260641  "
      ]
     },
     "execution_count": 9,
     "metadata": {},
     "output_type": "execute_result"
    }
   ],
   "source": [
    "intr = gpd.overlay(beats, tracts, how='intersection')[['beat','geoid','geometry']]\n",
    "\n",
    "intr['intr_area'] = (intr.geometry.area/1_000_000.0).astype(float)\n",
    "\n",
    "# Get rid of really small intersections\n",
    "intr = intr[intr.intr_area >= .01] \n",
    "\n",
    "merged = intr[['beat','geoid', 'intr_area']]\\\n",
    "    .merge(tracts[['geoid', 'tract_area']],on='geoid')\\\n",
    "    .merge(beats[['beat', 'beat_area']],on='beat')\\\n",
    "    .merge(race_tracts, on='geoid')\n",
    "\n",
    "merged = merged.drop_duplicates(subset=['beat','geoid'])\n",
    "\n",
    "merged['tract_overlap_proportion'] = merged.intr_area/merged.tract_area\n",
    "merged['beat_overlap_proportion'] = merged.intr_area/merged.beat_area\n",
    "\n",
    "# The intersection areas must be smaller than both of the areas being intersected\n",
    "assert(not any(merged.intr_area > merged.beat_area))\n",
    "assert(not any(merged.intr_area > merged.tract_area))\n",
    "\n",
    "# Check that all of the areas of the beats are accounted for\n",
    "assert(all(merged.groupby('beat').beat_overlap_proportion.sum().round(1) == 1))\n",
    "\n",
    "merged['total'] = merged.total * merged.tract_overlap_proportion\n",
    "merged['white'] = merged.white * merged.tract_overlap_proportion\n",
    "merged['asian'] = merged.asian * merged.tract_overlap_proportion\n",
    "merged['black'] = merged.black * merged.tract_overlap_proportion\n",
    "merged['aian']  = merged.aian * merged.tract_overlap_proportion\n",
    "merged['hisp']  = merged.hisp * merged.tract_overlap_proportion\n",
    "merged['nhopi']  = merged.nhopi * merged.tract_overlap_proportion\n",
    "\n",
    "merged.head().T\n"
   ]
  },
  {
   "cell_type": "code",
   "execution_count": 10,
   "metadata": {},
   "outputs": [],
   "source": [
    "beat_demographics = merged.groupby('beat').sum()[['total', 'white', 'black', 'aian', 'asian', 'nhopi', 'hisp']].round()"
   ]
  },
  {
   "cell_type": "code",
   "execution_count": null,
   "metadata": {
    "epilog": true,
    "mt_dataframes": true
   },
   "outputs": [],
   "source": [
    "%mt_materialize beat_demographics '/Users/eric/Library/Application Support/metapack/_materialized_data/sandiego.gov-police_regions-5' "
   ]
  },
  {
   "cell_type": "code",
   "execution_count": null,
   "metadata": {
    "epilog": true,
    "mt_materialize": true
   },
   "outputs": [],
   "source": [
    "\n",
    "%mt_materialize_all '/Users/eric/Library/Application Support/metapack/_materialized_data/sandiego.gov-police_regions-5'\n"
   ]
  },
  {
   "cell_type": "code",
   "execution_count": null,
   "metadata": {
    "epilog": true,
    "mt_final_metatab": true
   },
   "outputs": [],
   "source": [
    "\n",
    "%mt_show_metatab\n",
    "\n"
   ]
  },
  {
   "cell_type": "code",
   "execution_count": null,
   "metadata": {
    "epilog": true,
    "mt_show_libdirs": true
   },
   "outputs": [],
   "source": [
    "\n",
    "%mt_show_libdirs\n",
    "\n"
   ]
  }
 ],
 "metadata": {
  "kernelspec": {
   "display_name": "Python 3",
   "language": "python",
   "name": "python3"
  },
  "language_info": {
   "codemirror_mode": {
    "name": "ipython",
    "version": 3
   },
   "file_extension": ".py",
   "mimetype": "text/x-python",
   "name": "python",
   "nbconvert_exporter": "python",
   "pygments_lexer": "ipython3",
   "version": "3.7.6"
  }
 },
 "nbformat": 4,
 "nbformat_minor": 4
}
