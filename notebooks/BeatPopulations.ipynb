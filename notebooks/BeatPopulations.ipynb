{
 "cells": [
  {
   "cell_type": "markdown",
   "metadata": {},
   "source": [
    "# Beat Populations\n",
    "\n",
    "Link census tract populations, total and by race, into police beats. Attributes population from tracts to beats by the areas of the overlaps. The basic procedure is to find the overlaps between beats and Census tracts, then addign a portion of the population of the tract to the beat, based on the raio of the size of overlap to the size of the tract. "
   ]
  },
  {
   "cell_type": "code",
   "execution_count": 1,
   "metadata": {},
   "outputs": [],
   "source": [
    "import seaborn as sns\n",
    "import metapack as mp\n",
    "import pandas as pd\n",
    "import geopandas as gpd\n",
    "import numpy as np\n",
    "import matplotlib.pyplot as plt\n",
    "from IPython.display import display \n",
    "import utm\n",
    "\n",
    "%matplotlib inline\n",
    "sns.set_context('notebook')\n"
   ]
  },
  {
   "cell_type": "code",
   "execution_count": 2,
   "metadata": {},
   "outputs": [
    {
     "data": {
      "text/html": [
       "<h1>San Diego Police Regions and Demographics</h1>\n",
       "<p><code>sandiego.gov-police_regions-2.1.1</code> Last Update: 2021-02-25T18:10:53</p>\n",
       "<p><em>Boundary shapes for San Diego neighborhoods, beats and divisions, with ACS 2019 estimates for populations, by race.</em></p>\n",
       "<p>This package links shapefiles for San Diego police beats to Census tracts and\n",
       "merges in ACS estimates for population, by race, from the 2016 5 year ACS. When\n",
       "a police beat boundry crosses a tract, the tract population is allocated to\n",
       "beats by the proportion of the overlap by area. See the <a href=\"https://github.com/metatab-packages/metatab-packages/blob/master/sandi\n",
       "ego.gov/sandiego.gov-police_regions/notebooks/BeatPopulations.ipynb\">Jupyter\n",
       "notebook</a> that\n",
       "performs the procedure for details.</p>\n",
       "<p>For the race/ethicty statistics, Hispanic ('hisp') refers to Hispanics of any\n",
       "race, while all other races refer to non-Hispanics of that race.</p>\n",
       "<h2>Documentation Links</h2>\n",
       "<ul>\n",
       "<li><a href=\"https://data.sandiego.gov/datasets/pd-divisions/\">Police Divisions Repository Page</a> Data repository page that links to original files.</li>\n",
       "</ul>\n",
       "<h2>Notes</h2>\n",
       "<ul>\n",
       "<li>Version 2.1.1 Updates to 2019 Census, better EPSG ( UTM 11N ) for area calc</li>\n",
       "</ul>\n",
       "<h2>Contacts</h2>\n",
       "<ul>\n",
       "<li><strong>Wrangler</strong> <a href=\"mailto:eric@civicknowledge.com\">Eric Busboom</a>, <a href=\"http://civicknowledge.com\">Civic Knowledge</a></li>\n",
       "</ul>\n",
       "<h2>Resources</h2>\n",
       "<ul>\n",
       "<li><strong> <a href=\"notebooks/beats.ipynb#pd_beats\">pd_beats</a></strong>. Police beats</li>\n",
       "<li><strong> <a href=\"notebooks/beats.ipynb#pd_divisions\">pd_divisions</a></strong>. Police Divisions</li>\n",
       "<li><strong> <a href=\"notebooks/beats.ipynb#pd_neighborhoods\">pd_neighborhoods</a></strong>. Police Neighborhoods</li>\n",
       "<li><strong> <a href=\"notebooks/BeatPopulations.ipynb#beat_demographics\">beat_demographics</a></strong>. Counts of people in the beat, by race.</li>\n",
       "</ul>\n",
       "<h2>References</h2>\n",
       "<p><ul><li> <strong>tracts</string>, <em>censusgeo://2019/5/CA/tract</em>. Census tracts from 2016 5 year ACS, for San Diego county</li><li> <strong>race</string>, <em>census://2019/5/CA/tract/B03002</em>. Race, by tract, in San Diego county</li><li> <strong>pd_beats_source</string>, <em>shape+http://seshat.datasd.org/sde/pd/pd_beats_datasd.zip</em>. Police beats</li><li> <strong>pd_divisions_source</string>, <em>shape+http://seshat.datasd.org/sde/pd/pd_divisions_datasd.zip</em>. Police Divisions</li><li> <strong>pd_neighborhoods_source</string>, <em>shape+http://seshat.datasd.org/sde/pd/pd_divisions_datasd.zip</em>. Police Neighborhoods</li><ul></p>"
      ],
      "text/plain": [
       "# San Diego Police Regions and Demographics\n",
       "`sandiego.gov-police_regions-2.1.1` Last Update: 2021-02-25T18:10:53\n",
       "\n",
       "_Boundary shapes for San Diego neighborhoods, beats and divisions, with ACS 2019 estimates for populations, by race._\n",
       "\n",
       "\n",
       "This package links shapefiles for San Diego police beats to Census tracts and\n",
       "merges in ACS estimates for population, by race, from the 2016 5 year ACS. When\n",
       "a police beat boundry crosses a tract, the tract population is allocated to\n",
       "beats by the proportion of the overlap by area. See the [Jupyter\n",
       "notebook](https://github.com/metatab-packages/metatab-packages/blob/master/sandi\n",
       "ego.gov/sandiego.gov-police_regions/notebooks/BeatPopulations.ipynb) that\n",
       "performs the procedure for details.\n",
       "\n",
       "For the race/ethicty statistics, Hispanic ('hisp') refers to Hispanics of any\n",
       "race, while all other races refer to non-Hispanics of that race.\n",
       "## Documentation Links\n",
       "\n",
       "* [Police Divisions Repository Page](https://data.sandiego.gov/datasets/pd-divisions/) Data repository page that links to original files.\n",
       "\n",
       " \n",
       "## Notes\n",
       "\n",
       "* Version 2.1.1 Updates to 2019 Census, better EPSG ( UTM 11N ) for area calc\n",
       "## Contacts\n",
       "\n",
       "* **Wrangler** [Eric Busboom](mailto:eric@civicknowledge.com), [Civic Knowledge](http://civicknowledge.com)\n",
       "\n",
       "## Resources\n",
       "\n",
       "* ** [pd_beats](notebooks/beats.ipynb#pd_beats)**. Police beats\n",
       "* ** [pd_divisions](notebooks/beats.ipynb#pd_divisions)**. Police Divisions\n",
       "* ** [pd_neighborhoods](notebooks/beats.ipynb#pd_neighborhoods)**. Police Neighborhoods\n",
       "* ** [beat_demographics](notebooks/BeatPopulations.ipynb#beat_demographics)**. Counts of people in the beat, by race.\n",
       "\n",
       "## References\n",
       "<ul><li> <strong>tracts</string>, <em>censusgeo://2019/5/CA/tract</em>. Census tracts from 2016 5 year ACS, for San Diego county</li><li> <strong>race</string>, <em>census://2019/5/CA/tract/B03002</em>. Race, by tract, in San Diego county</li><li> <strong>pd_beats_source</string>, <em>shape+http://seshat.datasd.org/sde/pd/pd_beats_datasd.zip</em>. Police beats</li><li> <strong>pd_divisions_source</string>, <em>shape+http://seshat.datasd.org/sde/pd/pd_divisions_datasd.zip</em>. Police Divisions</li><li> <strong>pd_neighborhoods_source</string>, <em>shape+http://seshat.datasd.org/sde/pd/pd_divisions_datasd.zip</em>. Police Neighborhoods</li><ul>\n"
      ]
     },
     "execution_count": 2,
     "metadata": {},
     "output_type": "execute_result"
    }
   ],
   "source": [
    "#pkg = mp.jupyter.open_package()\n",
    "pkg = mp.jupyter.open_source_package()\n",
    "pkg"
   ]
  },
  {
   "cell_type": "code",
   "execution_count": 6,
   "metadata": {},
   "outputs": [
    {
     "data": {
      "text/html": [
       "<div>\n",
       "<style scoped>\n",
       "    .dataframe tbody tr th:only-of-type {\n",
       "        vertical-align: middle;\n",
       "    }\n",
       "\n",
       "    .dataframe tbody tr th {\n",
       "        vertical-align: top;\n",
       "    }\n",
       "\n",
       "    .dataframe thead th {\n",
       "        text-align: right;\n",
       "    }\n",
       "</style>\n",
       "<table border=\"1\" class=\"dataframe\">\n",
       "  <thead>\n",
       "    <tr style=\"text-align: right;\">\n",
       "      <th></th>\n",
       "      <th>objectid</th>\n",
       "      <th>div_num</th>\n",
       "      <th>div_name</th>\n",
       "      <th>geometry</th>\n",
       "    </tr>\n",
       "  </thead>\n",
       "  <tbody>\n",
       "    <tr>\n",
       "      <th>0</th>\n",
       "      <td>1</td>\n",
       "      <td>1</td>\n",
       "      <td>NORTHERN</td>\n",
       "      <td>POLYGON ((-117.24145 32.91383, -117.23726 32.9...</td>\n",
       "    </tr>\n",
       "    <tr>\n",
       "      <th>1</th>\n",
       "      <td>2</td>\n",
       "      <td>2</td>\n",
       "      <td>NORTHEASTERN</td>\n",
       "      <td>POLYGON ((-117.00941 33.11314, -117.00942 33.1...</td>\n",
       "    </tr>\n",
       "    <tr>\n",
       "      <th>2</th>\n",
       "      <td>3</td>\n",
       "      <td>3</td>\n",
       "      <td>EASTERN</td>\n",
       "      <td>POLYGON ((-117.03127 32.83776, -117.03666 32.8...</td>\n",
       "    </tr>\n",
       "    <tr>\n",
       "      <th>3</th>\n",
       "      <td>4</td>\n",
       "      <td>5</td>\n",
       "      <td>CENTRAL</td>\n",
       "      <td>POLYGON ((-117.14225 32.74120, -117.14225 32.7...</td>\n",
       "    </tr>\n",
       "    <tr>\n",
       "      <th>4</th>\n",
       "      <td>5</td>\n",
       "      <td>6</td>\n",
       "      <td>WESTERN</td>\n",
       "      <td>POLYGON ((-117.16408 32.80326, -117.15802 32.8...</td>\n",
       "    </tr>\n",
       "  </tbody>\n",
       "</table>\n",
       "</div>"
      ],
      "text/plain": [
       "  objectid div_num      div_name  \\\n",
       "0        1       1      NORTHERN   \n",
       "1        2       2  NORTHEASTERN   \n",
       "2        3       3       EASTERN   \n",
       "3        4       5       CENTRAL   \n",
       "4        5       6       WESTERN   \n",
       "\n",
       "                                            geometry  \n",
       "0  POLYGON ((-117.24145 32.91383, -117.23726 32.9...  \n",
       "1  POLYGON ((-117.00941 33.11314, -117.00942 33.1...  \n",
       "2  POLYGON ((-117.03127 32.83776, -117.03666 32.8...  \n",
       "3  POLYGON ((-117.14225 32.74120, -117.14225 32.7...  \n",
       "4  POLYGON ((-117.16408 32.80326, -117.15802 32.8...  "
      ]
     },
     "execution_count": 6,
     "metadata": {},
     "output_type": "execute_result"
    }
   ],
   "source": [
    "# Convert to EPSG:26911, ( A randomly selected UTM Zone 11N CRS) so area calculations \n",
    "# will be in square meters, rather than square degrees\n",
    "beats = pkg.resource('pd_beats').geoframe()\n",
    "beats.head()"
   ]
  },
  {
   "cell_type": "code",
   "execution_count": 4,
   "metadata": {},
   "outputs": [],
   "source": [
    "# Figure out the UTM zone, and from that the CRS EPSG for the UTM zone\n",
    "xmin, ymin, xmax, ymax = beats.to_crs(4326).envelope.total_bounds\n",
    "band = utm.from_latlon((ymax-ymin)/2+ymin, (xmax-xmin)/2+xmin )[2]\n",
    "epsg = int('326'+str(band))\n",
    "\n",
    "assert(epsg == 32611) # It's always San Diego, so we already know what it is ... \n"
   ]
  },
  {
   "cell_type": "code",
   "execution_count": 5,
   "metadata": {},
   "outputs": [
    {
     "ename": "KeyError",
     "evalue": "'beat'",
     "output_type": "error",
     "traceback": [
      "\u001b[0;31m---------------------------------------------------------------------------\u001b[0m",
      "\u001b[0;31mKeyError\u001b[0m                                  Traceback (most recent call last)",
      "\u001b[0;32m<ipython-input-5-8c0711195256>\u001b[0m in \u001b[0;36m<module>\u001b[0;34m()\u001b[0m\n\u001b[1;32m      8\u001b[0m \u001b[0;31m# It looks like the dataset has multiple rows per beat, one feature per row. We need\u001b[0m\u001b[0;34m\u001b[0m\u001b[0;34m\u001b[0m\u001b[0;34m\u001b[0m\u001b[0m\n\u001b[1;32m      9\u001b[0m \u001b[0;31m# it to have one row per beat, with multiple features combined together.\u001b[0m\u001b[0;34m\u001b[0m\u001b[0;34m\u001b[0m\u001b[0;34m\u001b[0m\u001b[0m\n\u001b[0;32m---> 10\u001b[0;31m \u001b[0mbeats\u001b[0m \u001b[0;34m=\u001b[0m \u001b[0mbeats\u001b[0m\u001b[0;34m.\u001b[0m\u001b[0mdissolve\u001b[0m\u001b[0;34m(\u001b[0m\u001b[0mby\u001b[0m\u001b[0;34m=\u001b[0m\u001b[0;34m'beat'\u001b[0m\u001b[0;34m)\u001b[0m\u001b[0;34m.\u001b[0m\u001b[0mreset_index\u001b[0m\u001b[0;34m(\u001b[0m\u001b[0;34m)\u001b[0m\u001b[0;34m\u001b[0m\u001b[0;34m\u001b[0m\u001b[0m\n\u001b[0m\u001b[1;32m     11\u001b[0m \u001b[0;34m\u001b[0m\u001b[0m\n\u001b[1;32m     12\u001b[0m \u001b[0;31m#  Add the area\u001b[0m\u001b[0;34m\u001b[0m\u001b[0;34m\u001b[0m\u001b[0;34m\u001b[0m\u001b[0m\n",
      "\u001b[0;32m~/opt/anaconda3/envs/data/lib/python3.7/site-packages/geopandas/geodataframe.py\u001b[0m in \u001b[0;36mdissolve\u001b[0;34m(self, by, aggfunc, as_index)\u001b[0m\n\u001b[1;32m    949\u001b[0m         \u001b[0;31m# Process non-spatial component\u001b[0m\u001b[0;34m\u001b[0m\u001b[0;34m\u001b[0m\u001b[0;34m\u001b[0m\u001b[0m\n\u001b[1;32m    950\u001b[0m         \u001b[0mdata\u001b[0m \u001b[0;34m=\u001b[0m \u001b[0mself\u001b[0m\u001b[0;34m.\u001b[0m\u001b[0mdrop\u001b[0m\u001b[0;34m(\u001b[0m\u001b[0mlabels\u001b[0m\u001b[0;34m=\u001b[0m\u001b[0mself\u001b[0m\u001b[0;34m.\u001b[0m\u001b[0mgeometry\u001b[0m\u001b[0;34m.\u001b[0m\u001b[0mname\u001b[0m\u001b[0;34m,\u001b[0m \u001b[0maxis\u001b[0m\u001b[0;34m=\u001b[0m\u001b[0;36m1\u001b[0m\u001b[0;34m)\u001b[0m\u001b[0;34m\u001b[0m\u001b[0;34m\u001b[0m\u001b[0m\n\u001b[0;32m--> 951\u001b[0;31m         \u001b[0maggregated_data\u001b[0m \u001b[0;34m=\u001b[0m \u001b[0mdata\u001b[0m\u001b[0;34m.\u001b[0m\u001b[0mgroupby\u001b[0m\u001b[0;34m(\u001b[0m\u001b[0mby\u001b[0m\u001b[0;34m=\u001b[0m\u001b[0mby\u001b[0m\u001b[0;34m)\u001b[0m\u001b[0;34m.\u001b[0m\u001b[0magg\u001b[0m\u001b[0;34m(\u001b[0m\u001b[0maggfunc\u001b[0m\u001b[0;34m)\u001b[0m\u001b[0;34m\u001b[0m\u001b[0;34m\u001b[0m\u001b[0m\n\u001b[0m\u001b[1;32m    952\u001b[0m \u001b[0;34m\u001b[0m\u001b[0m\n\u001b[1;32m    953\u001b[0m         \u001b[0;31m# Process spatial component\u001b[0m\u001b[0;34m\u001b[0m\u001b[0;34m\u001b[0m\u001b[0;34m\u001b[0m\u001b[0m\n",
      "\u001b[0;32m~/opt/anaconda3/envs/data/lib/python3.7/site-packages/pandas/core/frame.py\u001b[0m in \u001b[0;36mgroupby\u001b[0;34m(self, by, axis, level, as_index, sort, group_keys, squeeze, observed, dropna)\u001b[0m\n\u001b[1;32m   6523\u001b[0m             \u001b[0msqueeze\u001b[0m\u001b[0;34m=\u001b[0m\u001b[0msqueeze\u001b[0m\u001b[0;34m,\u001b[0m\u001b[0;34m\u001b[0m\u001b[0;34m\u001b[0m\u001b[0m\n\u001b[1;32m   6524\u001b[0m             \u001b[0mobserved\u001b[0m\u001b[0;34m=\u001b[0m\u001b[0mobserved\u001b[0m\u001b[0;34m,\u001b[0m\u001b[0;34m\u001b[0m\u001b[0;34m\u001b[0m\u001b[0m\n\u001b[0;32m-> 6525\u001b[0;31m             \u001b[0mdropna\u001b[0m\u001b[0;34m=\u001b[0m\u001b[0mdropna\u001b[0m\u001b[0;34m,\u001b[0m\u001b[0;34m\u001b[0m\u001b[0;34m\u001b[0m\u001b[0m\n\u001b[0m\u001b[1;32m   6526\u001b[0m         )\n\u001b[1;32m   6527\u001b[0m \u001b[0;34m\u001b[0m\u001b[0m\n",
      "\u001b[0;32m~/opt/anaconda3/envs/data/lib/python3.7/site-packages/pandas/core/groupby/groupby.py\u001b[0m in \u001b[0;36m__init__\u001b[0;34m(self, obj, keys, axis, level, grouper, exclusions, selection, as_index, sort, group_keys, squeeze, observed, mutated, dropna)\u001b[0m\n\u001b[1;32m    531\u001b[0m                 \u001b[0mobserved\u001b[0m\u001b[0;34m=\u001b[0m\u001b[0mobserved\u001b[0m\u001b[0;34m,\u001b[0m\u001b[0;34m\u001b[0m\u001b[0;34m\u001b[0m\u001b[0m\n\u001b[1;32m    532\u001b[0m                 \u001b[0mmutated\u001b[0m\u001b[0;34m=\u001b[0m\u001b[0mself\u001b[0m\u001b[0;34m.\u001b[0m\u001b[0mmutated\u001b[0m\u001b[0;34m,\u001b[0m\u001b[0;34m\u001b[0m\u001b[0;34m\u001b[0m\u001b[0m\n\u001b[0;32m--> 533\u001b[0;31m                 \u001b[0mdropna\u001b[0m\u001b[0;34m=\u001b[0m\u001b[0mself\u001b[0m\u001b[0;34m.\u001b[0m\u001b[0mdropna\u001b[0m\u001b[0;34m,\u001b[0m\u001b[0;34m\u001b[0m\u001b[0;34m\u001b[0m\u001b[0m\n\u001b[0m\u001b[1;32m    534\u001b[0m             )\n\u001b[1;32m    535\u001b[0m \u001b[0;34m\u001b[0m\u001b[0m\n",
      "\u001b[0;32m~/opt/anaconda3/envs/data/lib/python3.7/site-packages/pandas/core/groupby/grouper.py\u001b[0m in \u001b[0;36mget_grouper\u001b[0;34m(obj, key, axis, level, sort, observed, mutated, validate, dropna)\u001b[0m\n\u001b[1;32m    784\u001b[0m                 \u001b[0min_axis\u001b[0m\u001b[0;34m,\u001b[0m \u001b[0mname\u001b[0m\u001b[0;34m,\u001b[0m \u001b[0mlevel\u001b[0m\u001b[0;34m,\u001b[0m \u001b[0mgpr\u001b[0m \u001b[0;34m=\u001b[0m \u001b[0;32mFalse\u001b[0m\u001b[0;34m,\u001b[0m \u001b[0;32mNone\u001b[0m\u001b[0;34m,\u001b[0m \u001b[0mgpr\u001b[0m\u001b[0;34m,\u001b[0m \u001b[0;32mNone\u001b[0m\u001b[0;34m\u001b[0m\u001b[0;34m\u001b[0m\u001b[0m\n\u001b[1;32m    785\u001b[0m             \u001b[0;32melse\u001b[0m\u001b[0;34m:\u001b[0m\u001b[0;34m\u001b[0m\u001b[0;34m\u001b[0m\u001b[0m\n\u001b[0;32m--> 786\u001b[0;31m                 \u001b[0;32mraise\u001b[0m \u001b[0mKeyError\u001b[0m\u001b[0;34m(\u001b[0m\u001b[0mgpr\u001b[0m\u001b[0;34m)\u001b[0m\u001b[0;34m\u001b[0m\u001b[0;34m\u001b[0m\u001b[0m\n\u001b[0m\u001b[1;32m    787\u001b[0m         \u001b[0;32melif\u001b[0m \u001b[0misinstance\u001b[0m\u001b[0;34m(\u001b[0m\u001b[0mgpr\u001b[0m\u001b[0;34m,\u001b[0m \u001b[0mGrouper\u001b[0m\u001b[0;34m)\u001b[0m \u001b[0;32mand\u001b[0m \u001b[0mgpr\u001b[0m\u001b[0;34m.\u001b[0m\u001b[0mkey\u001b[0m \u001b[0;32mis\u001b[0m \u001b[0;32mnot\u001b[0m \u001b[0;32mNone\u001b[0m\u001b[0;34m:\u001b[0m\u001b[0;34m\u001b[0m\u001b[0;34m\u001b[0m\u001b[0m\n\u001b[1;32m    788\u001b[0m             \u001b[0;31m# Add key to exclusions\u001b[0m\u001b[0;34m\u001b[0m\u001b[0;34m\u001b[0m\u001b[0;34m\u001b[0m\u001b[0m\n",
      "\u001b[0;31mKeyError\u001b[0m: 'beat'"
     ]
    }
   ],
   "source": [
    "# Convert to a UTM EPSG, so that we can do calculations in meters. \n",
    "beats = beats.to_crs(epsg)\n",
    "\n",
    "# There are  beats that are way off in east county. Get rid of them.\n",
    "#rightmost_centroid = beats.centroid.x.sort_values(ascending=False).iloc[:6].max()\n",
    "#beats = beats[beats.centroid.x <rightmost_centroid]\n",
    "\n",
    "# It looks like the dataset has multiple rows per beat, one feature per row. We need\n",
    "# it to have one row per beat, with multiple features combined together. \n",
    "beats = beats.dissolve(by='beat').reset_index()\n",
    "\n",
    "#  Add the area\n",
    "beats['beat_area'] = beats.area / 1_000_000\n",
    "\n",
    "beats.plot()"
   ]
  },
  {
   "cell_type": "code",
   "execution_count": null,
   "metadata": {},
   "outputs": [],
   "source": [
    "tracts = pkg.reference('tracts').geoframe().to_crs(epsg)\n",
    "\n",
    "#  Add the area\n",
    "tracts['tract_area'] = tracts.area / 1_000_000\n",
    "\n",
    "\n",
    "tracts.plot()"
   ]
  },
  {
   "cell_type": "code",
   "execution_count": null,
   "metadata": {},
   "outputs": [],
   "source": []
  },
  {
   "cell_type": "code",
   "execution_count": null,
   "metadata": {},
   "outputs": [],
   "source": [
    "# White, black, asian, etc are all non hispanic. \n",
    "col_map = {\n",
    "    'b03002_001':'total',\n",
    "    'b03002_003':'white',\n",
    "    'b03002_004':'black',\n",
    "    'b03002_005':'aian',\n",
    "    'b03002_006':'asian',\n",
    "    'b03002_007':'nhopi', \n",
    "    'b03002_012':'hisp'\n",
    "    \n",
    "}\n",
    "\n",
    "for k,v in list(col_map.items()):\n",
    "    col_map[k+'_m90'] = col_map[k]+'_m90'\n",
    "    \n",
    "t = pkg.reference('race').dataframe()\n",
    "    \n",
    "race_tracts = t[t.county=='073'].rename(columns=col_map).reset_index().rename(columns={'GEOID':'geoid'})"
   ]
  },
  {
   "cell_type": "code",
   "execution_count": null,
   "metadata": {},
   "outputs": [],
   "source": [
    "race_tracts = race_tracts[['geoid', 'total', 'white', 'black', 'aian', 'asian', 'nhopi', 'hisp']]\n",
    "race_tracts.titles.head().T"
   ]
  },
  {
   "cell_type": "code",
   "execution_count": null,
   "metadata": {},
   "outputs": [],
   "source": [
    "t = gpd.sjoin(beats, tracts)\n",
    "\n",
    "ax = t.plot()\n",
    "beats.centroid.plot(ax=ax, color='red')\n",
    "\n",
    "t = t[['geoid', 'beat']].drop_duplicates()\\\n",
    "    .merge(tracts[['geoid','geometry', 'tract_area']],on='geoid')\\\n",
    "    .merge(beats[['beat','geometry', 'beat_area']],on='beat')\n"
   ]
  },
  {
   "cell_type": "code",
   "execution_count": null,
   "metadata": {},
   "outputs": [],
   "source": [
    "# merge by finding intersections. Each record in intr will be an area that is entirely\n",
    "# in both one tract and one beat. \n",
    "intr = gpd.overlay(beats, tracts, how='intersection')[['beat','geoid','geometry']]\n",
    "print(len(beats), len(tracts), len(intr))\n",
    "intr['intr_area'] = (intr.geometry.area/1_000_000.0).astype(float)\n",
    "\n",
    "# Get rid of really small intersections\n",
    "intr = intr[intr.intr_area >= .01] \n",
    "\n",
    "# Merge back with beats and tracts to get beat and tract areas. \n",
    "merged = intr[['beat','geoid', 'intr_area']]\\\n",
    "    .merge(tracts[['geoid', 'tract_area']],on='geoid')\\\n",
    "    .merge(beats[['beat', 'beat_area']],on='beat')\\\n",
    "    .merge(race_tracts, on='geoid')\n",
    "\n",
    "merged = merged.drop_duplicates(subset=['beat','geoid'])\n",
    "\n",
    "merged['tract_overlap_proportion'] = merged.intr_area/merged.tract_area\n",
    "merged['beat_overlap_proportion'] = merged.intr_area/merged.beat_area\n",
    "\n",
    "# The intersection areas must be smaller than both of the areas being intersected\n",
    "assert(not any(merged.intr_area > merged.beat_area))\n",
    "assert(not any(merged.intr_area > merged.tract_area))\n",
    "\n",
    "# Check that all of the areas of the beats are accounted for\n",
    "assert(all(merged.groupby('beat').beat_overlap_proportion.sum().round(1) == 1))\n",
    "\n",
    "merged['total'] = merged.total * merged.tract_overlap_proportion\n",
    "merged['white'] = merged.white * merged.tract_overlap_proportion\n",
    "merged['asian'] = merged.asian * merged.tract_overlap_proportion\n",
    "merged['black'] = merged.black * merged.tract_overlap_proportion\n",
    "merged['aian']  = merged.aian * merged.tract_overlap_proportion\n",
    "merged['hisp']  = merged.hisp * merged.tract_overlap_proportion\n",
    "merged['nhopi']  = merged.nhopi * merged.tract_overlap_proportion\n",
    "\n",
    "merged.head().T\n"
   ]
  },
  {
   "cell_type": "code",
   "execution_count": null,
   "metadata": {},
   "outputs": [],
   "source": [
    "beat_demographics = merged.groupby('beat').sum()[['total', 'white', 'black', 'aian', 'asian', 'nhopi', 'hisp']].round()"
   ]
  }
 ],
 "metadata": {
  "kernelspec": {
   "display_name": "Python 3",
   "language": "python",
   "name": "python3"
  },
  "language_info": {
   "codemirror_mode": {
    "name": "ipython",
    "version": 3
   },
   "file_extension": ".py",
   "mimetype": "text/x-python",
   "name": "python",
   "nbconvert_exporter": "python",
   "pygments_lexer": "ipython3",
   "version": "3.7.6"
  }
 },
 "nbformat": 4,
 "nbformat_minor": 4
}
