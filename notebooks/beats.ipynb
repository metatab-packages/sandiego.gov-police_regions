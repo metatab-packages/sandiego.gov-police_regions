{
 "cells": [
  {
   "cell_type": "code",
   "execution_count": 1,
   "metadata": {},
   "outputs": [],
   "source": [
    "import seaborn as sns\n",
    "import metapack as mp\n",
    "import pandas as pd\n",
    "import numpy as np\n",
    "import matplotlib.pyplot as plt\n",
    "from IPython.display import display \n",
    "\n",
    "%matplotlib inline\n",
    "sns.set_context('notebook')\n",
    "mp.jupyter.init()\n"
   ]
  },
  {
   "cell_type": "code",
   "execution_count": 2,
   "metadata": {},
   "outputs": [
    {
     "data": {
      "text/html": [
       "<h1>San Diego Police Regions and Demographics</h1>\n",
       "<p><code>sandiego.gov-police_regions-2.1.1</code> Last Update: 2021-02-25T18:10:53</p>\n",
       "<p><em>Boundary shapes for San Diego neighborhoods, beats and divisions, with ACS 2019 estimates for populations, by race.</em></p>\n",
       "<p>This package links shapefiles for San Diego police beats to Census tracts and\n",
       "merges in ACS estimates for population, by race, from the 2016 5 year ACS. When\n",
       "a police beat boundry crosses a tract, the tract population is allocated to\n",
       "beats by the proportion of the overlap by area. See the <a href=\"https://github.com/metatab-packages/metatab-packages/blob/master/sandi\n",
       "ego.gov/sandiego.gov-police_regions/notebooks/BeatPopulations.ipynb\">Jupyter\n",
       "notebook</a> that\n",
       "performs the procedure for details.</p>\n",
       "<p>For the race/ethicty statistics, Hispanic ('hisp') refers to Hispanics of any\n",
       "race, while all other races refer to non-Hispanics of that race.</p>\n",
       "<h2>Documentation Links</h2>\n",
       "<ul>\n",
       "<li><a href=\"https://data.sandiego.gov/datasets/pd-divisions/\">Police Divisions Repository Page</a> Data repository page that links to original files.</li>\n",
       "</ul>\n",
       "<h2>Notes</h2>\n",
       "<ul>\n",
       "<li>Version 2.1.1 Updates to 2019 Census, better EPSG ( UTM 11N ) for area calc</li>\n",
       "</ul>\n",
       "<h2>Contacts</h2>\n",
       "<ul>\n",
       "<li><strong>Wrangler</strong> <a href=\"mailto:eric@civicknowledge.com\">Eric Busboom</a>, <a href=\"http://civicknowledge.com\">Civic Knowledge</a></li>\n",
       "</ul>\n",
       "<h2>Resources</h2>\n",
       "<ul>\n",
       "<li><strong> <a href=\"notebooks/beats.ipynb#pd_beats\">pd_beats</a></strong>. Police beats</li>\n",
       "<li><strong> <a href=\"notebooks/beats.ipynb#pd_divisions\">pd_divisions</a></strong>. Police Divisions</li>\n",
       "<li><strong> <a href=\"notebooks/beats.ipynb#pd_neighborhoods\">pd_neighborhoods</a></strong>. Police Neighborhoods</li>\n",
       "<li><strong> <a href=\"notebooks/BeatPopulations.ipynb#beat_demographics\">beat_demographics</a></strong>. Counts of people in the beat, by race.</li>\n",
       "</ul>\n",
       "<h2>References</h2>\n",
       "<p><ul><li> <strong>tracts</string>, <em>censusgeo://2019/5/CA/tract</em>. Census tracts from 2016 5 year ACS, for San Diego county</li><li> <strong>race</string>, <em>census://2019/5/CA/tract/B03002</em>. Race, by tract, in San Diego county</li><li> <strong>pd_beats_source</string>, <em>shape+http://seshat.datasd.org/sde/pd/pd_beats_datasd.zip</em>. Police beats</li><li> <strong>pd_divisions_source</string>, <em>shape+http://seshat.datasd.org/sde/pd/pd_divisions_datasd.zip</em>. Police Divisions</li><li> <strong>pd_neighborhoods_source</string>, <em>shape+http://seshat.datasd.org/sde/pd/pd_divisions_datasd.zip</em>. Police Neighborhoods</li><ul></p>"
      ],
      "text/plain": [
       "# San Diego Police Regions and Demographics\n",
       "`sandiego.gov-police_regions-2.1.1` Last Update: 2021-02-25T18:10:53\n",
       "\n",
       "_Boundary shapes for San Diego neighborhoods, beats and divisions, with ACS 2019 estimates for populations, by race._\n",
       "\n",
       "\n",
       "This package links shapefiles for San Diego police beats to Census tracts and\n",
       "merges in ACS estimates for population, by race, from the 2016 5 year ACS. When\n",
       "a police beat boundry crosses a tract, the tract population is allocated to\n",
       "beats by the proportion of the overlap by area. See the [Jupyter\n",
       "notebook](https://github.com/metatab-packages/metatab-packages/blob/master/sandi\n",
       "ego.gov/sandiego.gov-police_regions/notebooks/BeatPopulations.ipynb) that\n",
       "performs the procedure for details.\n",
       "\n",
       "For the race/ethicty statistics, Hispanic ('hisp') refers to Hispanics of any\n",
       "race, while all other races refer to non-Hispanics of that race.\n",
       "## Documentation Links\n",
       "\n",
       "* [Police Divisions Repository Page](https://data.sandiego.gov/datasets/pd-divisions/) Data repository page that links to original files.\n",
       "\n",
       " \n",
       "## Notes\n",
       "\n",
       "* Version 2.1.1 Updates to 2019 Census, better EPSG ( UTM 11N ) for area calc\n",
       "## Contacts\n",
       "\n",
       "* **Wrangler** [Eric Busboom](mailto:eric@civicknowledge.com), [Civic Knowledge](http://civicknowledge.com)\n",
       "\n",
       "## Resources\n",
       "\n",
       "* ** [pd_beats](notebooks/beats.ipynb#pd_beats)**. Police beats\n",
       "* ** [pd_divisions](notebooks/beats.ipynb#pd_divisions)**. Police Divisions\n",
       "* ** [pd_neighborhoods](notebooks/beats.ipynb#pd_neighborhoods)**. Police Neighborhoods\n",
       "* ** [beat_demographics](notebooks/BeatPopulations.ipynb#beat_demographics)**. Counts of people in the beat, by race.\n",
       "\n",
       "## References\n",
       "<ul><li> <strong>tracts</string>, <em>censusgeo://2019/5/CA/tract</em>. Census tracts from 2016 5 year ACS, for San Diego county</li><li> <strong>race</string>, <em>census://2019/5/CA/tract/B03002</em>. Race, by tract, in San Diego county</li><li> <strong>pd_beats_source</string>, <em>shape+http://seshat.datasd.org/sde/pd/pd_beats_datasd.zip</em>. Police beats</li><li> <strong>pd_divisions_source</string>, <em>shape+http://seshat.datasd.org/sde/pd/pd_divisions_datasd.zip</em>. Police Divisions</li><li> <strong>pd_neighborhoods_source</string>, <em>shape+http://seshat.datasd.org/sde/pd/pd_divisions_datasd.zip</em>. Police Neighborhoods</li><ul>\n"
      ]
     },
     "execution_count": 2,
     "metadata": {},
     "output_type": "execute_result"
    }
   ],
   "source": [
    "#pkg = mp.jupyter.open_package()\n",
    "pkg = mp.jupyter.open_source_package()\n",
    "pkg"
   ]
  },
  {
   "cell_type": "code",
   "execution_count": 3,
   "metadata": {},
   "outputs": [],
   "source": [
    "# Either there are errors in the source files, or there is a bug in Geopandas, but these\n",
    "# files need to be simplified slightly to load. Otherwize I get \"Null geometry supports no operations\" and\n",
    "# \"Shell is not a LinearRing\" errors"
   ]
  },
  {
   "cell_type": "code",
   "execution_count": 4,
   "metadata": {},
   "outputs": [],
   "source": [
    "simpl_dist = 10\n",
    "\n",
    "pd_beats = pkg.reference('pd_beats_source').geoframe()\n",
    "pd_beats['geometry'] = pd_beats.to_crs(32611).simplify(simpl_dist).to_crs(4326)"
   ]
  },
  {
   "cell_type": "code",
   "execution_count": 5,
   "metadata": {},
   "outputs": [
    {
     "data": {
      "text/plain": [
       "<matplotlib.axes._subplots.AxesSubplot at 0x7f9878a23e10>"
      ]
     },
     "execution_count": 5,
     "metadata": {},
     "output_type": "execute_result"
    },
    {
     "data": {
      "image/png": "[encoded data removed]",
      "text/plain": [
       "<Figure size 432x288 with 1 Axes>"
      ]
     },
     "metadata": {
      "needs_background": "light"
     },
     "output_type": "display_data"
    }
   ],
   "source": [
    "pd_beats.plot()"
   ]
  },
  {
   "cell_type": "code",
   "execution_count": 11,
   "metadata": {},
   "outputs": [
    {
     "data": {
      "text/html": [
       "<div>\n",
       "<style scoped>\n",
       "    .dataframe tbody tr th:only-of-type {\n",
       "        vertical-align: middle;\n",
       "    }\n",
       "\n",
       "    .dataframe tbody tr th {\n",
       "        vertical-align: top;\n",
       "    }\n",
       "\n",
       "    .dataframe thead th {\n",
       "        text-align: right;\n",
       "    }\n",
       "</style>\n",
       "<table border=\"1\" class=\"dataframe\">\n",
       "  <thead>\n",
       "    <tr style=\"text-align: right;\">\n",
       "      <th></th>\n",
       "      <th>objectid</th>\n",
       "      <th>beat</th>\n",
       "      <th>div</th>\n",
       "      <th>serv</th>\n",
       "      <th>name</th>\n",
       "      <th>geometry</th>\n",
       "    </tr>\n",
       "  </thead>\n",
       "  <tbody>\n",
       "    <tr>\n",
       "      <th>0</th>\n",
       "      <td>3</td>\n",
       "      <td>935</td>\n",
       "      <td>9</td>\n",
       "      <td>930</td>\n",
       "      <td>NORTH CITY</td>\n",
       "      <td>MULTIPOLYGON (((-117.20425 32.96202, -117.2043...</td>\n",
       "    </tr>\n",
       "    <tr>\n",
       "      <th>1</th>\n",
       "      <td>7</td>\n",
       "      <td>0</td>\n",
       "      <td>0</td>\n",
       "      <td>0</td>\n",
       "      <td>SAN DIEGO</td>\n",
       "      <td>MULTIPOLYGON (((-117.22526 32.70267, -117.2264...</td>\n",
       "    </tr>\n",
       "    <tr>\n",
       "      <th>2</th>\n",
       "      <td>8</td>\n",
       "      <td>511</td>\n",
       "      <td>5</td>\n",
       "      <td>510</td>\n",
       "      <td>None</td>\n",
       "      <td>MULTIPOLYGON (((-117.22529 32.70261, -117.2246...</td>\n",
       "    </tr>\n",
       "    <tr>\n",
       "      <th>3</th>\n",
       "      <td>9</td>\n",
       "      <td>722</td>\n",
       "      <td>7</td>\n",
       "      <td>720</td>\n",
       "      <td>NESTOR</td>\n",
       "      <td>POLYGON ((-117.09042 32.58383, -117.08714 32.5...</td>\n",
       "    </tr>\n",
       "    <tr>\n",
       "      <th>4</th>\n",
       "      <td>10</td>\n",
       "      <td>314</td>\n",
       "      <td>3</td>\n",
       "      <td>310</td>\n",
       "      <td>BIRDLAND</td>\n",
       "      <td>POLYGON ((-117.15149 32.80650, -117.14943 32.7...</td>\n",
       "    </tr>\n",
       "  </tbody>\n",
       "</table>\n",
       "</div>"
      ],
      "text/plain": [
       "   objectid  beat  div  serv        name  \\\n",
       "0         3   935    9   930  NORTH CITY   \n",
       "1         7     0    0     0   SAN DIEGO   \n",
       "2         8   511    5   510        None   \n",
       "3         9   722    7   720      NESTOR   \n",
       "4        10   314    3   310    BIRDLAND   \n",
       "\n",
       "                                            geometry  \n",
       "0  MULTIPOLYGON (((-117.20425 32.96202, -117.2043...  \n",
       "1  MULTIPOLYGON (((-117.22526 32.70267, -117.2264...  \n",
       "2  MULTIPOLYGON (((-117.22529 32.70261, -117.2246...  \n",
       "3  POLYGON ((-117.09042 32.58383, -117.08714 32.5...  \n",
       "4  POLYGON ((-117.15149 32.80650, -117.14943 32.7...  "
      ]
     },
     "execution_count": 11,
     "metadata": {},
     "output_type": "execute_result"
    }
   ],
   "source": [
    "pd_beats.head()"
   ]
  },
  {
   "cell_type": "code",
   "execution_count": 6,
   "metadata": {},
   "outputs": [],
   "source": [
    "pd_divisions = pkg.reference('pd_divisions_source').geoframe()\n",
    "pd_divisions['geometry'] = pd_divisions.to_crs(32611).simplify(simpl_dist).to_crs(4326)\n"
   ]
  },
  {
   "cell_type": "code",
   "execution_count": 7,
   "metadata": {},
   "outputs": [],
   "source": [
    "pd_neighborhoods = pkg.reference('pd_neighborhoods_source').geoframe()\n",
    "pd_neighborhoods['geometry'] = pd_neighborhoods.to_crs(32611).simplify(simpl_dist).to_crs(4326)"
   ]
  },
  {
   "cell_type": "code",
   "execution_count": 9,
   "metadata": {},
   "outputs": [
    {
     "data": {
      "text/plain": [
       "<matplotlib.axes._subplots.AxesSubplot at 0x7f9849294810>"
      ]
     },
     "execution_count": 9,
     "metadata": {},
     "output_type": "execute_result"
    },
    {
     "data": {
      "image/png": "[encoded data removed]",
      "text/plain": [
       "<Figure size 432x288 with 1 Axes>"
      ]
     },
     "metadata": {
      "needs_background": "light"
     },
     "output_type": "display_data"
    }
   ],
   "source": [
    "pd_neighborhoods.plot()"
   ]
  },
  {
   "cell_type": "code",
   "execution_count": null,
   "metadata": {},
   "outputs": [],
   "source": []
  }
 ],
 "metadata": {
  "kernelspec": {
   "display_name": "Python 3",
   "language": "python",
   "name": "python3"
  },
  "language_info": {
   "codemirror_mode": {
    "name": "ipython",
    "version": 3
   },
   "file_extension": ".py",
   "mimetype": "text/x-python",
   "name": "python",
   "nbconvert_exporter": "python",
   "pygments_lexer": "ipython3",
   "version": "3.7.6"
  }
 },
 "nbformat": 4,
 "nbformat_minor": 4
}
